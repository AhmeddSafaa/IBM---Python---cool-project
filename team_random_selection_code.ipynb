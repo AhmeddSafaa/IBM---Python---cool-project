{
  "cells": [
    {
      "cell_type": "markdown",
      "metadata": {
        "id": "GdDs6KiDOGbN"
      },
      "source": [
        "# Team Random Selection Code :)\n",
        "\n",
        "1.   List item\n",
        "2.   List item\n",
        "\n",
        "\n"
      ]
    },
    {
      "cell_type": "code",
      "execution_count": 1,
      "metadata": {
        "id": "I782eDndOGbg"
      },
      "outputs": [],
      "source": [
        "import random\n",
        "\n",
        "# Define the four test lists\n",
        "level1_list = [1, 2, 3, 4]\n",
        "level2_list = ['a', 'b', 'c','d']\n",
        "level3_list = [99, 88, 77,66]\n",
        "level4_list = [\"1$\",\"2&\",\"3%\",\"4©\"]"
      ]
    },
    {
      "cell_type": "markdown",
      "metadata": {
        "id": "kvyBE0YROGbi"
      },
      "source": [
        "Think about a code that help us to have random new mixed lists, each list should have one element from each level lists.\n",
        "\n",
        "Output may be like that following:\n",
        "```python\n",
        "team1 = [1, 'c', 88, '2&']\n",
        "team2 = [4, 'a', 99, '3%']\n",
        "team3 = [2, 'b', 77, '4©']\n",
        "team4 = [3, 'd', 66, '1$']\n",
        "```\n",
        "\n"
      ]
    },
    {
      "cell_type": "markdown",
      "source": [
        "Let'**s** Start ;)"
      ],
      "metadata": {
        "id": "Y1bzSTF9SjEp"
      }
    },
    {
      "cell_type": "code",
      "execution_count": 15,
      "metadata": {
        "id": "VUGAdkN2OGbj"
      },
      "outputs": [],
      "source": [
        "# your code here\n",
        "import random\n",
        "\n",
        "# Define all your level lists here\n",
        "level1_list = [1, 2, 3, 4]\n",
        "level2_list = ['a', 'b', 'c', 'd']\n",
        "level3_list = [99, 88, 77, 66]\n",
        "level4_list = [\"1$\", \"2&\", \"3%\", \"4©\"]\n"
      ]
    },
    {
      "cell_type": "code",
      "source": [
        "# Get the number of elements from the shortest list\n",
        "num_elements = min(len(lst) for lst in [level1_list, level2_list, level3_list, level4_list])\n"
      ],
      "metadata": {
        "id": "j70BSCP_PAha"
      },
      "execution_count": 16,
      "outputs": []
    },
    {
      "cell_type": "code",
      "source": [
        "# Create an empty list to store teams\n",
        "teams = []"
      ],
      "metadata": {
        "id": "dHZ56NmLSus8"
      },
      "execution_count": 17,
      "outputs": []
    },
    {
      "cell_type": "code",
      "source": [
        "# Loop for the number of elements\n",
        "for _ in range(num_elements):\n",
        "  team = []\n",
        "  for level_list in [level1_list, level2_list, level3_list, level4_list]:\n",
        "    team.append(random.choice(level_list))\n",
        "  teams.append(team)"
      ],
      "metadata": {
        "id": "CWEphQCaSyWI"
      },
      "execution_count": 18,
      "outputs": []
    },
    {
      "cell_type": "code",
      "source": [
        "# Print the randomly generated teams\n",
        "for i, team in enumerate(teams):\n",
        "  print(f\"Team {i+1}: {team}\")"
      ],
      "metadata": {
        "colab": {
          "base_uri": "https://localhost:8080/"
        },
        "id": "Liman4mHS5QI",
        "outputId": "82e7e6b8-0380-47a4-9c53-9be7dd468750"
      },
      "execution_count": 19,
      "outputs": [
        {
          "output_type": "stream",
          "name": "stdout",
          "text": [
            "Team 1: [3, 'd', 66, '3%']\n",
            "Team 2: [1, 'a', 66, '4©']\n",
            "Team 3: [4, 'd', 77, '4©']\n",
            "Team 4: [3, 'd', 88, '2&']\n"
          ]
        }
      ]
    },
    {
      "cell_type": "markdown",
      "source": [
        "Let's try by numpy ;)"
      ],
      "metadata": {
        "id": "5ewcwhAXUz9H"
      }
    },
    {
      "cell_type": "code",
      "source": [
        "import numpy as np\n",
        "\n",
        "level1_list = np.array([1, 2, 3, 4])\n",
        "level2_list = np.array(['a', 'b', 'c', 'd'])\n",
        "level3_list = np.array([99, 88, 77, 66])\n",
        "level4_list = np.array([\"1$\", \"2&\", \"3%\", \"4©\"])\n"
      ],
      "metadata": {
        "id": "c8w4DfezU6X2"
      },
      "execution_count": 25,
      "outputs": []
    },
    {
      "cell_type": "code",
      "source": [
        "all_levels = np.array([level1_list, level2_list, level3_list, level4_list])\n"
      ],
      "metadata": {
        "id": "sQZ4fULDU9sj"
      },
      "execution_count": 26,
      "outputs": []
    },
    {
      "cell_type": "code",
      "source": [
        "num_elements = all_levels.shape[1]"
      ],
      "metadata": {
        "id": "bySA3c8mVFof"
      },
      "execution_count": 27,
      "outputs": []
    },
    {
      "cell_type": "code",
      "source": [
        "for level in all_levels:\n",
        "  np.random.shuffle(level)"
      ],
      "metadata": {
        "id": "Kpg3Dl90VL2c"
      },
      "execution_count": 28,
      "outputs": []
    },
    {
      "cell_type": "code",
      "source": [
        "teams = all_levels[:, :num_elements].T\n",
        "\n",
        "for i, team in enumerate(teams):\n",
        "  print(f\"Team {i+1}: {team.tolist()}\")"
      ],
      "metadata": {
        "colab": {
          "base_uri": "https://localhost:8080/"
        },
        "id": "-15gkmJAVOb7",
        "outputId": "05bd3306-db8f-4c3b-ac7e-35995aeb9b15"
      },
      "execution_count": 29,
      "outputs": [
        {
          "output_type": "stream",
          "name": "stdout",
          "text": [
            "Team 1: ['1', 'c', '77', '3%']\n",
            "Team 2: ['3', 'd', '99', '2&']\n",
            "Team 3: ['2', 'a', '88', '1$']\n",
            "Team 4: ['4', 'b', '66', '4©']\n"
          ]
        }
      ]
    }
  ],
  "metadata": {
    "kernelspec": {
      "display_name": "pubmed",
      "language": "python",
      "name": "python3"
    },
    "language_info": {
      "name": "python",
      "version": "3.11.9"
    },
    "colab": {
      "provenance": []
    }
  },
  "nbformat": 4,
  "nbformat_minor": 0
}